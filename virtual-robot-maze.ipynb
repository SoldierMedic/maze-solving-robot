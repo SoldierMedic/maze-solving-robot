{
 "cells": [
  {
   "cell_type": "code",
   "execution_count": 16,
   "metadata": {},
   "outputs": [
    {
     "name": "stdout",
     "output_type": "stream",
     "text": [
      "X X X X \n",
      "R O X X \n",
      "X O X X \n",
      "X O O O \n"
     ]
    }
   ],
   "source": [
    "maze = [['X','X','X','X'],['R','O','X','X'],['X','O','X','X'],['X','O','O','O']]# two dimensional array representing the maze map\n",
    "\n",
    "def printMaze(maze):\n",
    "    count = 0\n",
    "    for i in range(len(maze)):\n",
    "     for j in range(len(maze[i])):\n",
    "        print(\"{}\".format(maze[i][j]), end=\" \")\n",
    "        count += 1\n",
    "        if count == 4:# count represents the number of columns\n",
    "            print()\n",
    "            count = 0\n",
    "    if count != 0:\n",
    "        print()\n",
    "\n",
    "\n",
    "printMaze(maze)"
   ]
  }
 ],
 "metadata": {
  "kernelspec": {
   "display_name": "Python 3.9.13 ('base')",
   "language": "python",
   "name": "python3"
  },
  "language_info": {
   "codemirror_mode": {
    "name": "ipython",
    "version": 3
   },
   "file_extension": ".py",
   "mimetype": "text/x-python",
   "name": "python",
   "nbconvert_exporter": "python",
   "pygments_lexer": "ipython3",
   "version": "3.9.13"
  },
  "orig_nbformat": 4,
  "vscode": {
   "interpreter": {
    "hash": "373c84623d57c66c1c4a0c9bcf724500804d101b6f28b9ff43bb1ce6a0b60d7f"
   }
  }
 },
 "nbformat": 4,
 "nbformat_minor": 2
}
